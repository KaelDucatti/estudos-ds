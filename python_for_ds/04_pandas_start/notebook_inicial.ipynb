{
  "cells": [
    {
      "cell_type": "markdown",
      "metadata": {
        "id": "po_EJXY_WTZ6"
      },
      "source": [
        "# `Aula 1`\n",
        "# `Conhecendo a base de dados`"
      ]
    },
    {
      "cell_type": "markdown",
      "metadata": {
        "id": "Yg7As1VwWnTw"
      },
      "source": [
        "### 1.1. Importando os dados\n"
      ]
    },
    {
      "cell_type": "code",
      "execution_count": null,
      "metadata": {
        "id": "A0m9bw60V9Uj"
      },
      "outputs": [],
      "source": [
        "import pandas as pd"
      ]
    },
    {
      "cell_type": "code",
      "execution_count": null,
      "metadata": {
        "id": "-8GmBuLzWlnS"
      },
      "outputs": [],
      "source": [
        "database = 'aluguel.csv'\n",
        "\n",
        "df = pd.read_csv(\n",
        "    database,\n",
        "    sep=';'\n",
        ")\n",
        "\n",
        "df"
      ]
    },
    {
      "cell_type": "code",
      "execution_count": null,
      "metadata": {
        "id": "Af6xejuuWli2"
      },
      "outputs": [],
      "source": [
        "df.head(10)"
      ]
    },
    {
      "cell_type": "code",
      "execution_count": null,
      "metadata": {
        "id": "1EjEmItCWleQ"
      },
      "outputs": [],
      "source": [
        "df.tail(10)"
      ]
    },
    {
      "cell_type": "markdown",
      "metadata": {
        "id": "rwL6VcT9W6W-"
      },
      "source": [
        "### 1.2. Características gerais da base de dados"
      ]
    },
    {
      "cell_type": "code",
      "execution_count": null,
      "metadata": {
        "id": "V3RRXTIYW7KV"
      },
      "outputs": [],
      "source": [
        "df.shape"
      ]
    },
    {
      "cell_type": "code",
      "execution_count": null,
      "metadata": {
        "id": "55WX-hlnW6wm"
      },
      "outputs": [],
      "source": [
        "df.columns"
      ]
    },
    {
      "cell_type": "code",
      "execution_count": null,
      "metadata": {
        "id": "yacj_jwOXESW"
      },
      "outputs": [],
      "source": [
        "df.info()"
      ]
    },
    {
      "cell_type": "code",
      "execution_count": null,
      "metadata": {
        "id": "Mh5HqrORXEMu"
      },
      "outputs": [],
      "source": [
        "# Visualizando uma coluna específica\n",
        "df['Tipo']"
      ]
    },
    {
      "cell_type": "code",
      "execution_count": null,
      "metadata": {
        "id": "ZmygOLCMXIyB"
      },
      "outputs": [],
      "source": [
        "df[['Bairro', 'Tipo', 'Valor', 'Area']]"
      ]
    },
    {
      "cell_type": "markdown",
      "metadata": {
        "id": "cwVMOIMpWWfM"
      },
      "source": [
        "# `Aula 2`\n",
        "# `Análise exploratória de dados`"
      ]
    },
    {
      "cell_type": "markdown",
      "metadata": {
        "id": "rnsDqFNDYV9-"
      },
      "source": [
        "### 2.1. Qual o valor médio de aluguel por tipo de imóvel?"
      ]
    },
    {
      "cell_type": "code",
      "execution_count": null,
      "metadata": {
        "id": "WRsE4GdoHZbg"
      },
      "outputs": [],
      "source": [
        "# Separando apenas as colunas que irei utilizar\n",
        "tipo_valor = df[['Tipo', 'Valor']]\n",
        "tipo_valor"
      ]
    },
    {
      "cell_type": "code",
      "execution_count": null,
      "metadata": {
        "id": "_Ud_6L8WTqWY"
      },
      "outputs": [],
      "source": [
        "# Agrupando valores por tipo e calculando a média por agrupamento\n",
        "df.groupby('Tipo').mean(numeric_only=True)\n",
        "\n",
        "# agrupando por uma coluna específica\n",
        "df.groupby('Tipo')[['Valor']].mean()"
      ]
    },
    {
      "cell_type": "code",
      "execution_count": null,
      "metadata": {},
      "outputs": [],
      "source": [
        "# Agrupando valores por tipo e calculando a soma por agrupamento\n",
        "df.groupby('Tipo')[['Valor']].sum()"
      ]
    },
    {
      "cell_type": "code",
      "execution_count": null,
      "metadata": {
        "id": "7No8Z_W_YXJ1"
      },
      "outputs": [],
      "source": [
        "# Agrupando valores por tipo e calculando o número de reptições por agrupamento\n",
        "df.groupby('Tipo')[['Valor']].count()"
      ]
    },
    {
      "cell_type": "code",
      "execution_count": null,
      "metadata": {
        "id": "xwNUoofAYXFU"
      },
      "outputs": [],
      "source": [
        "# Se quisermos com que a tabela seja mostrada em forma de DataFrame, basta colacar o mais um par de [] em ['Valor']\n",
        "df.groupby('Tipo')[['Valor', 'Condominio', 'IPTU']].mean()"
      ]
    },
    {
      "cell_type": "code",
      "execution_count": null,
      "metadata": {
        "id": "wc-pASG0YXBt"
      },
      "outputs": [],
      "source": [
        "# Podemos também ordenar esses valores com a função 'sort_values()'\n",
        "df_valor_tipo = df.groupby('Tipo')[['Valor']].mean().sort_values('Valor')"
      ]
    },
    {
      "cell_type": "code",
      "execution_count": null,
      "metadata": {},
      "outputs": [],
      "source": [
        "df_valor_tipo.plot(kind='barh', figsize=(14, 10), color='purple')"
      ]
    },
    {
      "cell_type": "markdown",
      "metadata": {
        "id": "c2rdhKbgZMpT"
      },
      "source": [
        "### 2.2. Removendo os imóveis comerciais"
      ]
    },
    {
      "cell_type": "code",
      "execution_count": null,
      "metadata": {
        "id": "JELgjo5dZIwe"
      },
      "outputs": [],
      "source": [
        "# fazenod um 'set' de um Series do nosso DataFrame\n",
        "df['Tipo'].unique()"
      ]
    },
    {
      "cell_type": "code",
      "execution_count": null,
      "metadata": {
        "id": "rDVKB-xtZUU9"
      },
      "outputs": [],
      "source": [
        "imoveis_comerciais = ['Conjunto Comercial/Sala', \n",
        "                      'Prédio Inteiro', 'Loja/Salão', \n",
        "                      'Galpão/Depósito/Armazém', \n",
        "                      'Casa Comercial', 'Terreno Padrão',\n",
        "                      'Loja Shopping/ Ct Comercial',\n",
        "                      'Box/Garagem', 'Chácara',\n",
        "                      'Loteamento/Condomínio', 'Sítio',\n",
        "                      'Pousada/Chalé', 'Hotel', 'Indústria']                                            "
      ]
    },
    {
      "cell_type": "code",
      "execution_count": null,
      "metadata": {
        "id": "GK9p8CEK4CtU"
      },
      "outputs": [],
      "source": [
        "# Criando um DataFrame sem os tipos de imóveis comerciais\n",
        "imoveis_residenciais = df.query('@imoveis_comerciais not in Tipo')\n",
        "imoveis_residenciais"
      ]
    },
    {
      "cell_type": "code",
      "execution_count": null,
      "metadata": {
        "id": "v7dZPR5c4Oo2"
      },
      "outputs": [],
      "source": [
        "# Vando tipos únicos do novo DataFrame\n",
        "imoveis_residenciais['Tipo'].unique()"
      ]
    },
    {
      "cell_type": "code",
      "execution_count": null,
      "metadata": {
        "id": "DrCXtYhi4RcD"
      },
      "outputs": [],
      "source": [
        "# Plotando gráfico\n",
        "imoveis_residenciais_media = imoveis_residenciais.groupby('Tipo')[['Valor']].mean().sort_values('Valor')\n",
        "imoveis_residenciais_media.plot(kind='barh', figsize=(14, 10), color='blue')"
      ]
    },
    {
      "cell_type": "markdown",
      "metadata": {
        "id": "-wW1PcKCXP_8"
      },
      "source": [
        "### 2.3. Qual o percentual de cada tipo de imóvel na nossa base de dados?"
      ]
    },
    {
      "cell_type": "code",
      "execution_count": null,
      "metadata": {
        "id": "LFn-BeGNXa2k"
      },
      "outputs": [],
      "source": [
        "# contando o número de vezes que um grupo repete\n",
        "imoveis_residenciais[['Tipo']].value_counts().to_frame()"
      ]
    },
    {
      "cell_type": "code",
      "execution_count": 188,
      "metadata": {
        "id": "qpjKJkjmXa0A"
      },
      "outputs": [
        {
          "data": {
            "text/html": [
              "<div>\n",
              "<style scoped>\n",
              "    .dataframe tbody tr th:only-of-type {\n",
              "        vertical-align: middle;\n",
              "    }\n",
              "\n",
              "    .dataframe tbody tr th {\n",
              "        vertical-align: top;\n",
              "    }\n",
              "\n",
              "    .dataframe thead th {\n",
              "        text-align: right;\n",
              "    }\n",
              "</style>\n",
              "<table border=\"1\" class=\"dataframe\">\n",
              "  <thead>\n",
              "    <tr style=\"text-align: right;\">\n",
              "      <th></th>\n",
              "      <th>Tipo</th>\n",
              "      <th>Percentual</th>\n",
              "    </tr>\n",
              "  </thead>\n",
              "  <tbody>\n",
              "    <tr>\n",
              "      <th>0</th>\n",
              "      <td>Studio</td>\n",
              "      <td>0.000173</td>\n",
              "    </tr>\n",
              "    <tr>\n",
              "      <th>1</th>\n",
              "      <td>Quitinete</td>\n",
              "      <td>0.036173</td>\n",
              "    </tr>\n",
              "    <tr>\n",
              "      <th>2</th>\n",
              "      <td>Loft</td>\n",
              "      <td>0.002207</td>\n",
              "    </tr>\n",
              "    <tr>\n",
              "      <th>3</th>\n",
              "      <td>Flat</td>\n",
              "      <td>0.020596</td>\n",
              "    </tr>\n",
              "    <tr>\n",
              "      <th>4</th>\n",
              "      <td>Casa de Vila</td>\n",
              "      <td>0.010774</td>\n",
              "    </tr>\n",
              "    <tr>\n",
              "      <th>5</th>\n",
              "      <td>Casa de Condomínio</td>\n",
              "      <td>0.043096</td>\n",
              "    </tr>\n",
              "    <tr>\n",
              "      <th>6</th>\n",
              "      <td>Casa</td>\n",
              "      <td>0.041842</td>\n",
              "    </tr>\n",
              "    <tr>\n",
              "      <th>7</th>\n",
              "      <td>Apartamento</td>\n",
              "      <td>0.845139</td>\n",
              "    </tr>\n",
              "  </tbody>\n",
              "</table>\n",
              "</div>"
            ],
            "text/plain": [
              "                 Tipo  Percentual\n",
              "0              Studio    0.000173\n",
              "1           Quitinete    0.036173\n",
              "2                Loft    0.002207\n",
              "3                Flat    0.020596\n",
              "4        Casa de Vila    0.010774\n",
              "5  Casa de Condomínio    0.043096\n",
              "6                Casa    0.041842\n",
              "7         Apartamento    0.845139"
            ]
          },
          "execution_count": 188,
          "metadata": {},
          "output_type": "execute_result"
        }
      ],
      "source": [
        "# trazendo o valor de repetições de um determinado grupo em porcetangem, transformando para DataFrame e ordenando em ordem descendente\n",
        "df_imoveis_residenciais = imoveis_residenciais['Tipo'].value_counts(normalize=True).to_frame().sort_values('Tipo', ascending=False)\n",
        "df_imoveis_residenciais.rename(columns={'proportion': 'Percentual'}, inplace=True)\n",
        "df_imoveis_residenciais = df_imoveis_residenciais.reset_index()"
      ]
    },
    {
      "cell_type": "code",
      "execution_count": null,
      "metadata": {
        "id": "XMWQmHhbXaxG"
      },
      "outputs": [],
      "source": [
        "df_imoveis_residenciais.plot(\n",
        "    kind='bar',\n",
        "    figsize=(14, 8),\n",
        "    color='green',\n",
        "    xlabel='Tipos',\n",
        "    ylabel='Percentual'\n",
        ")"
      ]
    },
    {
      "cell_type": "markdown",
      "metadata": {
        "id": "2TJSa7Nr59qr"
      },
      "source": [
        "### 2.3. Selecionando apenas os imóveis do tipo apartamento"
      ]
    },
    {
      "cell_type": "code",
      "execution_count": null,
      "metadata": {
        "id": "HZ7AhVhl6kXH"
      },
      "outputs": [],
      "source": [
        "df = df.query('Tipo == \"Apartamento\"')\n",
        "df.head(10)"
      ]
    },
    {
      "cell_type": "markdown",
      "metadata": {
        "id": "Qicz5ljuWYIG"
      },
      "source": [
        "# `Aula 3` \n",
        "# `Tratando e filtrando os dados`"
      ]
    },
    {
      "cell_type": "markdown",
      "metadata": {
        "id": "sx6e737KaaWV"
      },
      "source": [
        "### 3.1. Lidando com dados nulos"
      ]
    },
    {
      "cell_type": "code",
      "execution_count": null,
      "metadata": {
        "id": "XYFrVbLlWX0j"
      },
      "outputs": [],
      "source": []
    },
    {
      "cell_type": "code",
      "execution_count": null,
      "metadata": {
        "id": "vtgPgHGnWYTZ"
      },
      "outputs": [],
      "source": []
    },
    {
      "cell_type": "code",
      "execution_count": null,
      "metadata": {
        "id": "Mw2m96vCaZvE"
      },
      "outputs": [],
      "source": []
    },
    {
      "cell_type": "code",
      "execution_count": null,
      "metadata": {
        "id": "KRF0dAyBaZq7"
      },
      "outputs": [],
      "source": []
    },
    {
      "cell_type": "code",
      "execution_count": null,
      "metadata": {
        "id": "Plaat1OsbJ-5"
      },
      "outputs": [],
      "source": []
    },
    {
      "cell_type": "code",
      "execution_count": null,
      "metadata": {
        "id": "wYReiMYibLZ1"
      },
      "outputs": [],
      "source": []
    },
    {
      "cell_type": "markdown",
      "metadata": {
        "id": "B_OC_jS8cL0n"
      },
      "source": [
        "### 3.2. Removendo registros"
      ]
    },
    {
      "cell_type": "code",
      "execution_count": null,
      "metadata": {
        "id": "H955G70zcKwX"
      },
      "outputs": [],
      "source": []
    },
    {
      "cell_type": "code",
      "execution_count": null,
      "metadata": {
        "id": "7M_YtGLgxd0k"
      },
      "outputs": [],
      "source": []
    },
    {
      "cell_type": "code",
      "execution_count": null,
      "metadata": {
        "id": "R28sDOakx0dX"
      },
      "outputs": [],
      "source": []
    },
    {
      "cell_type": "code",
      "execution_count": null,
      "metadata": {
        "id": "p4UIflVTcKtN"
      },
      "outputs": [],
      "source": []
    },
    {
      "cell_type": "code",
      "execution_count": null,
      "metadata": {
        "id": "-hydAdP2e4m4"
      },
      "outputs": [],
      "source": []
    },
    {
      "cell_type": "code",
      "execution_count": null,
      "metadata": {
        "id": "jLJ8MM7byGHq"
      },
      "outputs": [],
      "source": []
    },
    {
      "cell_type": "code",
      "execution_count": null,
      "metadata": {
        "id": "Roc3lFaEe6lZ"
      },
      "outputs": [],
      "source": []
    },
    {
      "cell_type": "code",
      "execution_count": null,
      "metadata": {
        "id": "ksSN-IzN8Z7i"
      },
      "outputs": [],
      "source": []
    },
    {
      "cell_type": "code",
      "execution_count": null,
      "metadata": {
        "id": "XohBafvw8dsX"
      },
      "outputs": [],
      "source": []
    },
    {
      "cell_type": "markdown",
      "metadata": {
        "id": "khQPzyksg5Hx"
      },
      "source": [
        "### 3.3. Filtros"
      ]
    },
    {
      "cell_type": "markdown",
      "metadata": {
        "id": "ruP5z4iUy0HA"
      },
      "source": [
        "3.3.1 Apartamentos que possuem **1 quarto** e **aluguel menor que 1200**\n",
        "\n"
      ]
    },
    {
      "cell_type": "code",
      "execution_count": null,
      "metadata": {
        "id": "qTimHdpn-UjL"
      },
      "outputs": [],
      "source": []
    },
    {
      "cell_type": "code",
      "execution_count": null,
      "metadata": {
        "id": "_HAkpI9EeMPv"
      },
      "outputs": [],
      "source": []
    },
    {
      "cell_type": "code",
      "execution_count": null,
      "metadata": {
        "id": "i_uf0kP-0Jcv"
      },
      "outputs": [],
      "source": []
    },
    {
      "cell_type": "code",
      "execution_count": null,
      "metadata": {
        "id": "9iZXXwkE0JaL"
      },
      "outputs": [],
      "source": []
    },
    {
      "cell_type": "code",
      "execution_count": null,
      "metadata": {
        "id": "hTtHjRF271SQ"
      },
      "outputs": [],
      "source": []
    },
    {
      "cell_type": "markdown",
      "metadata": {
        "id": "cFeUf691y0oy"
      },
      "source": [
        "3.3.2. **Apartamentos** que possuem pelo menos **2 quartos**, **aluguel menor que 3000** e **area maior que 70**"
      ]
    },
    {
      "cell_type": "code",
      "execution_count": null,
      "metadata": {
        "id": "nt0alj_leMeZ"
      },
      "outputs": [],
      "source": []
    },
    {
      "cell_type": "code",
      "execution_count": null,
      "metadata": {
        "id": "5b30hBhj76LA"
      },
      "outputs": [],
      "source": []
    },
    {
      "cell_type": "markdown",
      "metadata": {
        "id": "X44FZQVd8Bdy"
      },
      "source": [
        "### 3.4. Salvando os dados"
      ]
    },
    {
      "cell_type": "code",
      "execution_count": null,
      "metadata": {
        "id": "KrvHtvZm9BXQ"
      },
      "outputs": [],
      "source": []
    },
    {
      "cell_type": "code",
      "execution_count": null,
      "metadata": {
        "id": "3MkTUyhj-G4L"
      },
      "outputs": [],
      "source": []
    },
    {
      "cell_type": "code",
      "execution_count": null,
      "metadata": {
        "id": "PuNhu13f96o0"
      },
      "outputs": [],
      "source": []
    },
    {
      "cell_type": "code",
      "execution_count": null,
      "metadata": {
        "id": "JlTd_yEP-F6B"
      },
      "outputs": [],
      "source": []
    },
    {
      "cell_type": "code",
      "execution_count": null,
      "metadata": {
        "id": "qtrF3cN3-PHn"
      },
      "outputs": [],
      "source": []
    },
    {
      "cell_type": "code",
      "execution_count": null,
      "metadata": {
        "id": "ldKDP26a-Rk1"
      },
      "outputs": [],
      "source": []
    },
    {
      "cell_type": "code",
      "execution_count": null,
      "metadata": {
        "id": "Y5e2jaBR-UmV"
      },
      "outputs": [],
      "source": []
    },
    {
      "cell_type": "code",
      "execution_count": null,
      "metadata": {
        "id": "x02MX4-bc6uR"
      },
      "outputs": [],
      "source": []
    },
    {
      "cell_type": "markdown",
      "metadata": {
        "id": "e6eJTZfKWXEs"
      },
      "source": [
        "# `Aula 4`\n",
        "# `Manipulando os dados`"
      ]
    },
    {
      "cell_type": "markdown",
      "metadata": {
        "id": "3i_NaXfjadEI"
      },
      "source": [
        "### 4.1. Criando colunas numéricas"
      ]
    },
    {
      "cell_type": "code",
      "execution_count": null,
      "metadata": {
        "id": "49JAtiMED73t"
      },
      "outputs": [],
      "source": []
    },
    {
      "cell_type": "code",
      "execution_count": null,
      "metadata": {
        "id": "rBejF2_badiG"
      },
      "outputs": [],
      "source": []
    },
    {
      "cell_type": "code",
      "execution_count": null,
      "metadata": {
        "id": "66yfztw3ad2P"
      },
      "outputs": [],
      "source": []
    },
    {
      "cell_type": "markdown",
      "metadata": {
        "id": "TZtb57m2bjzR"
      },
      "source": [
        "### 4.2. Criando colunas categóricas"
      ]
    },
    {
      "cell_type": "code",
      "execution_count": null,
      "metadata": {
        "id": "tb4crkqWJO3u"
      },
      "outputs": [],
      "source": []
    },
    {
      "cell_type": "code",
      "execution_count": null,
      "metadata": {
        "id": "gmfpWCBENjGx"
      },
      "outputs": [],
      "source": []
    },
    {
      "cell_type": "code",
      "execution_count": null,
      "metadata": {
        "id": "Z-27rFc7NSwq"
      },
      "outputs": [],
      "source": []
    },
    {
      "cell_type": "code",
      "execution_count": null,
      "metadata": {
        "id": "QSLfaWHlbkgD"
      },
      "outputs": [],
      "source": []
    },
    {
      "cell_type": "code",
      "execution_count": null,
      "metadata": {
        "id": "oAYh5rVAbkZp"
      },
      "outputs": [],
      "source": []
    }
  ],
  "metadata": {
    "colab": {
      "provenance": []
    },
    "kernelspec": {
      "display_name": "Python 3",
      "name": "python3"
    },
    "language_info": {
      "codemirror_mode": {
        "name": "ipython",
        "version": 3
      },
      "file_extension": ".py",
      "mimetype": "text/x-python",
      "name": "python",
      "nbconvert_exporter": "python",
      "pygments_lexer": "ipython3",
      "version": "3.12.2"
    }
  },
  "nbformat": 4,
  "nbformat_minor": 0
}
