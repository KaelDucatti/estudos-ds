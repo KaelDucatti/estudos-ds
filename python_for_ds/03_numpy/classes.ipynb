{
 "cells": [
  {
   "cell_type": "markdown",
   "metadata": {},
   "source": [
    "# Aula 1\n",
    "## Conhecendo a Biblioteca e nossos Dados"
   ]
  },
  {
   "cell_type": "markdown",
   "metadata": {},
   "source": [
    "### 1.1\n",
    "#### Carregando os Dados"
   ]
  },
  {
   "cell_type": "code",
   "execution_count": 8,
   "metadata": {},
   "outputs": [],
   "source": [
    "import numpy as np\n",
    "\n",
    "url = 'https://raw.githubusercontent.com/KaelDucatti/estudos-ds/main/python_for_ds/03_numpy/numpy-data/apples_ts.csv'\n",
    "\n",
    "dados = np.loadtxt(\n",
    "    url, \n",
    "    delimiter=',', \n",
    "    usecols=np.arange(1, 76, 1)\n",
    ")\n"
   ]
  },
  {
   "cell_type": "markdown",
   "metadata": {},
   "source": [
    "### 1.2\n",
    "#### Dimensões dos Arrays"
   ]
  },
  {
   "cell_type": "code",
   "execution_count": 10,
   "metadata": {},
   "outputs": [
    {
     "name": "stdout",
     "output_type": "stream",
     "text": [
      "2\n",
      "450\n",
      "(6, 75)\n"
     ]
    }
   ],
   "source": [
    "print(dados.ndim)\n",
    "print(dados.size)\n",
    "print(dados.shape)"
   ]
  }
 ],
 "metadata": {
  "kernelspec": {
   "display_name": "Python 3",
   "language": "python",
   "name": "python3"
  },
  "language_info": {
   "codemirror_mode": {
    "name": "ipython",
    "version": 3
   },
   "file_extension": ".py",
   "mimetype": "text/x-python",
   "name": "python",
   "nbconvert_exporter": "python",
   "pygments_lexer": "ipython3",
   "version": "3.12.2"
  }
 },
 "nbformat": 4,
 "nbformat_minor": 2
}
