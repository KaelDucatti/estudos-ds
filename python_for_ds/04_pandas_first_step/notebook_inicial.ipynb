{
  "cells": [
    {
      "cell_type": "markdown",
      "metadata": {
        "id": "po_EJXY_WTZ6"
      },
      "source": [
        "# `Aula 1`\n",
        "# `Conhecendo a base de dados`"
      ]
    },
    {
      "cell_type": "markdown",
      "metadata": {
        "id": "Yg7As1VwWnTw"
      },
      "source": [
        "### 1.1. Importando os dados\n"
      ]
    },
    {
      "cell_type": "code",
      "execution_count": null,
      "metadata": {
        "id": "A0m9bw60V9Uj"
      },
      "outputs": [],
      "source": [
        "import pandas as pd"
      ]
    },
    {
      "cell_type": "code",
      "execution_count": null,
      "metadata": {
        "id": "-8GmBuLzWlnS"
      },
      "outputs": [],
      "source": [
        "database = 'arquives/aluguel.csv'\n",
        "\n",
        "df = pd.read_csv(\n",
        "    database,\n",
        "    sep=';'\n",
        ")\n",
        "\n",
        "df"
      ]
    },
    {
      "cell_type": "code",
      "execution_count": null,
      "metadata": {
        "id": "Af6xejuuWli2"
      },
      "outputs": [],
      "source": [
        "df.head(10)"
      ]
    },
    {
      "cell_type": "code",
      "execution_count": null,
      "metadata": {
        "id": "1EjEmItCWleQ"
      },
      "outputs": [],
      "source": [
        "df.tail(10)"
      ]
    },
    {
      "cell_type": "markdown",
      "metadata": {
        "id": "rwL6VcT9W6W-"
      },
      "source": [
        "### 1.2. Características gerais da base de dados"
      ]
    },
    {
      "cell_type": "code",
      "execution_count": null,
      "metadata": {
        "id": "V3RRXTIYW7KV"
      },
      "outputs": [],
      "source": [
        "df.shape"
      ]
    },
    {
      "cell_type": "code",
      "execution_count": null,
      "metadata": {
        "id": "55WX-hlnW6wm"
      },
      "outputs": [],
      "source": [
        "df.columns"
      ]
    },
    {
      "cell_type": "code",
      "execution_count": null,
      "metadata": {
        "id": "yacj_jwOXESW"
      },
      "outputs": [],
      "source": [
        "df.info()"
      ]
    },
    {
      "cell_type": "code",
      "execution_count": null,
      "metadata": {
        "id": "Mh5HqrORXEMu"
      },
      "outputs": [],
      "source": [
        "# Visualizando uma coluna específica\n",
        "df['Tipo']"
      ]
    },
    {
      "cell_type": "code",
      "execution_count": null,
      "metadata": {
        "id": "ZmygOLCMXIyB"
      },
      "outputs": [],
      "source": [
        "df[['Bairro', 'Tipo', 'Valor', 'Area']]"
      ]
    },
    {
      "cell_type": "markdown",
      "metadata": {
        "id": "cwVMOIMpWWfM"
      },
      "source": [
        "# `Aula 2`\n",
        "# `Análise exploratória de dados`"
      ]
    },
    {
      "cell_type": "markdown",
      "metadata": {
        "id": "rnsDqFNDYV9-"
      },
      "source": [
        "### 2.1. Qual o valor médio de aluguel por tipo de imóvel?"
      ]
    },
    {
      "cell_type": "code",
      "execution_count": null,
      "metadata": {
        "id": "WRsE4GdoHZbg"
      },
      "outputs": [],
      "source": [
        "# Separando apenas as colunas que irei utilizar\n",
        "tipo_valor = df[['Tipo', 'Valor']]\n",
        "tipo_valor"
      ]
    },
    {
      "cell_type": "code",
      "execution_count": null,
      "metadata": {
        "id": "_Ud_6L8WTqWY"
      },
      "outputs": [],
      "source": [
        "# Agrupando valores por tipo e calculando a média por agrupamento\n",
        "df.groupby('Tipo').mean(numeric_only=True)\n",
        "\n",
        "# agrupando por uma coluna específica\n",
        "df.groupby('Tipo')[['Valor']].mean()"
      ]
    },
    {
      "cell_type": "code",
      "execution_count": null,
      "metadata": {},
      "outputs": [],
      "source": [
        "# Agrupando valores por tipo e calculando a soma por agrupamento\n",
        "df.groupby('Tipo')[['Valor']].sum()"
      ]
    },
    {
      "cell_type": "code",
      "execution_count": null,
      "metadata": {
        "id": "7No8Z_W_YXJ1"
      },
      "outputs": [],
      "source": [
        "# Agrupando valores por tipo e calculando o número de reptições por agrupamento\n",
        "df.groupby('Tipo')[['Valor']].count()"
      ]
    },
    {
      "cell_type": "code",
      "execution_count": null,
      "metadata": {
        "id": "xwNUoofAYXFU"
      },
      "outputs": [],
      "source": [
        "# Se quisermos com que a tabela seja mostrada em forma de DataFrame, basta colacar o mais um par de [] em ['Valor']\n",
        "df.groupby('Tipo')[['Valor', 'Condominio', 'IPTU']].mean()"
      ]
    },
    {
      "cell_type": "code",
      "execution_count": null,
      "metadata": {
        "id": "wc-pASG0YXBt"
      },
      "outputs": [],
      "source": [
        "# Podemos também ordenar esses valores com a função 'sort_values()'\n",
        "df_valor_tipo = df.groupby('Tipo')[['Valor']].mean().sort_values('Valor')"
      ]
    },
    {
      "cell_type": "code",
      "execution_count": null,
      "metadata": {},
      "outputs": [],
      "source": [
        "df_valor_tipo.plot(kind='barh', figsize=(14, 10), color='purple')"
      ]
    },
    {
      "cell_type": "markdown",
      "metadata": {
        "id": "c2rdhKbgZMpT"
      },
      "source": [
        "### 2.2. Removendo os imóveis comerciais"
      ]
    },
    {
      "cell_type": "code",
      "execution_count": null,
      "metadata": {
        "id": "JELgjo5dZIwe"
      },
      "outputs": [],
      "source": [
        "# fazenod um 'set' de um Series do nosso DataFrame\n",
        "df['Tipo'].unique()"
      ]
    },
    {
      "cell_type": "code",
      "execution_count": null,
      "metadata": {
        "id": "rDVKB-xtZUU9"
      },
      "outputs": [],
      "source": [
        "imoveis_comerciais = ['Conjunto Comercial/Sala', \n",
        "                      'Prédio Inteiro', 'Loja/Salão', \n",
        "                      'Galpão/Depósito/Armazém', \n",
        "                      'Casa Comercial', 'Terreno Padrão',\n",
        "                      'Loja Shopping/ Ct Comercial',\n",
        "                      'Box/Garagem', 'Chácara',\n",
        "                      'Loteamento/Condomínio', 'Sítio',\n",
        "                      'Pousada/Chalé', 'Hotel', 'Indústria']                                            "
      ]
    },
    {
      "cell_type": "code",
      "execution_count": null,
      "metadata": {
        "id": "GK9p8CEK4CtU"
      },
      "outputs": [],
      "source": [
        "# Criando um DataFrame sem os tipos de imóveis comerciais\n",
        "imoveis_residenciais = df.query('@imoveis_comerciais not in Tipo')\n",
        "imoveis_residenciais"
      ]
    },
    {
      "cell_type": "code",
      "execution_count": null,
      "metadata": {
        "id": "v7dZPR5c4Oo2"
      },
      "outputs": [],
      "source": [
        "# Vando tipos únicos do novo DataFrame\n",
        "imoveis_residenciais['Tipo'].unique()"
      ]
    },
    {
      "cell_type": "code",
      "execution_count": null,
      "metadata": {
        "id": "DrCXtYhi4RcD"
      },
      "outputs": [],
      "source": [
        "# Plotando gráfico\n",
        "imoveis_residenciais_media = imoveis_residenciais.groupby('Tipo')[['Valor']].mean().sort_values('Valor')\n",
        "imoveis_residenciais_media.plot(kind='barh', figsize=(14, 10), color='blue')"
      ]
    },
    {
      "cell_type": "markdown",
      "metadata": {
        "id": "-wW1PcKCXP_8"
      },
      "source": [
        "### 2.3. Qual o percentual de cada tipo de imóvel na nossa base de dados?"
      ]
    },
    {
      "cell_type": "code",
      "execution_count": null,
      "metadata": {
        "id": "LFn-BeGNXa2k"
      },
      "outputs": [],
      "source": [
        "# contando o número de vezes que um grupo repete\n",
        "imoveis_residenciais[['Tipo']].value_counts().to_frame()"
      ]
    },
    {
      "cell_type": "code",
      "execution_count": null,
      "metadata": {
        "id": "qpjKJkjmXa0A"
      },
      "outputs": [],
      "source": [
        "# trazendo o valor de repetições de um determinado grupo em porcetangem, transformando para DataFrame e ordenando em ordem descendente\n",
        "df_imoveis_residenciais = imoveis_residenciais['Tipo'].value_counts(normalize=True).to_frame().sort_values('proportion', ascending=True)\n",
        "df_imoveis_residenciais.rename(columns={'proportion': 'Percentual'}, inplace=True)\n",
        "df_imoveis_residenciais = df_imoveis_residenciais.reset_index()\n",
        "df_imoveis_residenciais"
      ]
    },
    {
      "cell_type": "code",
      "execution_count": null,
      "metadata": {
        "id": "XMWQmHhbXaxG"
      },
      "outputs": [],
      "source": [
        "df_imoveis_residenciais.plot(\n",
        "    kind='bar',\n",
        "    x='Tipo',\n",
        "    y='Percentual',\n",
        "    rot=80,\n",
        "    figsize=(10, 5)    \n",
        ")\n"
      ]
    },
    {
      "cell_type": "markdown",
      "metadata": {
        "id": "2TJSa7Nr59qr"
      },
      "source": [
        "### 2.3. Selecionando apenas os imóveis do tipo apartamento"
      ]
    },
    {
      "cell_type": "code",
      "execution_count": null,
      "metadata": {
        "id": "HZ7AhVhl6kXH"
      },
      "outputs": [],
      "source": [
        "apartamentos = df.query('Tipo == \"Apartamento\"')\n",
        "apartamentos.head(10)"
      ]
    },
    {
      "cell_type": "markdown",
      "metadata": {
        "id": "Qicz5ljuWYIG"
      },
      "source": [
        "# `Aula 3` \n",
        "# `Tratando e filtrando os dados`"
      ]
    },
    {
      "cell_type": "markdown",
      "metadata": {
        "id": "sx6e737KaaWV"
      },
      "source": [
        "### 3.1. Lidando com dados nulos"
      ]
    },
    {
      "cell_type": "code",
      "execution_count": null,
      "metadata": {
        "id": "vtgPgHGnWYTZ"
      },
      "outputs": [],
      "source": [
        "# dataframe de mesmo tamanho do original indicando quais campo são, ou não, nulos\n",
        "null_values = apartamentos.isnull()\n",
        "print(null_values)\n",
        "print()\n",
        "\n",
        "# Essa função retorna se há ou não valores nulos no dataframe\n",
        "has_nulls = apartamentos.isnull().any().any()\n",
        "print(has_nulls)\n",
        "print()\n",
        "\n",
        "# Contando quantos nulos há em cada coluna do dataframa\n",
        "null_counts = apartamentos.isnull().sum()\n",
        "print(null_counts)"
      ]
    },
    {
      "cell_type": "code",
      "execution_count": null,
      "metadata": {
        "id": "Mw2m96vCaZvE"
      },
      "outputs": [],
      "source": [
        "from IPython.display import display\n",
        "\n",
        "# Display no dataframe antigo para comparação\n",
        "display(apartamentos)\n",
        "\n",
        "# Tratando valores nulos com interpolação linear\n",
        "interpolate_apartamentos = apartamentos.interpolate(method='linear')\n",
        "display(interpolate_apartamentos)\n",
        "apartamentos.dtypes"
      ]
    },
    {
      "cell_type": "code",
      "execution_count": null,
      "metadata": {
        "id": "KRF0dAyBaZq7"
      },
      "outputs": [],
      "source": [
        "# # Verificando se ainda há valores nulos no dataframe\n",
        "interpolate_apartamentos.isnull().sum()"
      ]
    },
    {
      "cell_type": "code",
      "execution_count": null,
      "metadata": {
        "id": "Plaat1OsbJ-5"
      },
      "outputs": [],
      "source": [
        "interpolate_apartamentos['Tipo'].unique()\n",
        "interpolate_apartamentos"
      ]
    },
    {
      "cell_type": "markdown",
      "metadata": {
        "id": "B_OC_jS8cL0n"
      },
      "source": [
        "### 3.2. Removendo registros"
      ]
    },
    {
      "cell_type": "code",
      "execution_count": null,
      "metadata": {
        "id": "H955G70zcKwX"
      },
      "outputs": [],
      "source": [
        "interpolate_apartamentos.drop('Tipo', axis=1, inplace=True)\n",
        "interpolate_apartamentos"
      ]
    },
    {
      "cell_type": "markdown",
      "metadata": {
        "id": "khQPzyksg5Hx"
      },
      "source": [
        "### 3.3. Filtros"
      ]
    },
    {
      "cell_type": "markdown",
      "metadata": {
        "id": "ruP5z4iUy0HA"
      },
      "source": [
        "3.3.1 Apartamentos que possuem **1 quarto** e **aluguel menor que 1200**\n",
        "\n"
      ]
    },
    {
      "cell_type": "code",
      "execution_count": null,
      "metadata": {
        "id": "qTimHdpn-UjL"
      },
      "outputs": [],
      "source": [
        "filter_one = interpolate_apartamentos[\n",
        "    (interpolate_apartamentos['Quartos'] == 1)\n",
        "    &\n",
        "    (interpolate_apartamentos['Valor'] < 1200)\n",
        "]\n",
        "print(filter_one.shape)\n",
        "filter_one"
      ]
    },
    {
      "cell_type": "markdown",
      "metadata": {
        "id": "cFeUf691y0oy"
      },
      "source": [
        "3.3.2. **Apartamentos** que possuem pelo menos **2 quartos**, **aluguel menor que 3000** e **area maior que 70**"
      ]
    },
    {
      "cell_type": "code",
      "execution_count": null,
      "metadata": {
        "id": "nt0alj_leMeZ"
      },
      "outputs": [],
      "source": [
        "filter_two = interpolate_apartamentos[\n",
        "    (interpolate_apartamentos['Quartos'] >= 2)\n",
        "    &\n",
        "    (interpolate_apartamentos['Valor'] < 3000)\n",
        "    &\n",
        "    (interpolate_apartamentos['Area'] > 70)\n",
        "]\n",
        "print(filter_two.shape)\n",
        "filter_two"
      ]
    },
    {
      "cell_type": "markdown",
      "metadata": {
        "id": "X44FZQVd8Bdy"
      },
      "source": [
        "### 3.4. Salvando os dados"
      ]
    },
    {
      "cell_type": "code",
      "execution_count": null,
      "metadata": {
        "id": "KrvHtvZm9BXQ"
      },
      "outputs": [],
      "source": [
        "\"\"\"\n",
        "DataFrame inicial com os devidos tratamentos feitos, como: \n",
        "· \n",
        "\"\"\" \n",
        "interpolate_apartamentos.to_csv(\n",
        "    \"arquives/dados_apartamentos.csv\", \n",
        "    index=False,\n",
        "    sep=';'\n",
        ")"
      ]
    },
    {
      "cell_type": "code",
      "execution_count": null,
      "metadata": {
        "id": "x02MX4-bc6uR"
      },
      "outputs": [],
      "source": [
        "# Salvando os dois filtros feitos em DataFrames diferentes\n",
        "filter_one.to_csv(\n",
        "    'arquives/filter_1.csv',\n",
        "    index=False,\n",
        "    sep=';'\n",
        ")\n",
        "\n",
        "filter_two.to_csv(\n",
        "    'arquive/filter_2.csv',\n",
        "    index=False,\n",
        "    sep=';'\n",
        ")"
      ]
    },
    {
      "cell_type": "code",
      "execution_count": null,
      "metadata": {
        "id": "3MkTUyhj-G4L"
      },
      "outputs": [],
      "source": [
        "pd.read_csv(\"arquives/dados_apartamentos.csv\")"
      ]
    },
    {
      "cell_type": "markdown",
      "metadata": {
        "id": "e6eJTZfKWXEs"
      },
      "source": [
        "# `Aula 4`\n",
        "# `Manipulando os dados`"
      ]
    },
    {
      "cell_type": "markdown",
      "metadata": {
        "id": "3i_NaXfjadEI"
      },
      "source": [
        "### 4.1. Criando colunas numéricas"
      ]
    },
    {
      "cell_type": "code",
      "execution_count": null,
      "metadata": {
        "id": "49JAtiMED73t"
      },
      "outputs": [],
      "source": []
    },
    {
      "cell_type": "code",
      "execution_count": null,
      "metadata": {
        "id": "rBejF2_badiG"
      },
      "outputs": [],
      "source": []
    },
    {
      "cell_type": "code",
      "execution_count": null,
      "metadata": {
        "id": "66yfztw3ad2P"
      },
      "outputs": [],
      "source": []
    },
    {
      "cell_type": "markdown",
      "metadata": {
        "id": "TZtb57m2bjzR"
      },
      "source": [
        "### 4.2. Criando colunas categóricas"
      ]
    },
    {
      "cell_type": "code",
      "execution_count": null,
      "metadata": {
        "id": "tb4crkqWJO3u"
      },
      "outputs": [],
      "source": []
    },
    {
      "cell_type": "code",
      "execution_count": null,
      "metadata": {
        "id": "gmfpWCBENjGx"
      },
      "outputs": [],
      "source": []
    },
    {
      "cell_type": "code",
      "execution_count": null,
      "metadata": {
        "id": "Z-27rFc7NSwq"
      },
      "outputs": [],
      "source": []
    },
    {
      "cell_type": "code",
      "execution_count": null,
      "metadata": {
        "id": "QSLfaWHlbkgD"
      },
      "outputs": [],
      "source": []
    },
    {
      "cell_type": "code",
      "execution_count": null,
      "metadata": {
        "id": "oAYh5rVAbkZp"
      },
      "outputs": [],
      "source": []
    }
  ],
  "metadata": {
    "colab": {
      "provenance": []
    },
    "kernelspec": {
      "display_name": "Python 3",
      "name": "python3"
    },
    "language_info": {
      "codemirror_mode": {
        "name": "ipython",
        "version": 3
      },
      "file_extension": ".py",
      "mimetype": "text/x-python",
      "name": "python",
      "nbconvert_exporter": "python",
      "pygments_lexer": "ipython3",
      "version": "3.12.2"
    }
  },
  "nbformat": 4,
  "nbformat_minor": 0
}
