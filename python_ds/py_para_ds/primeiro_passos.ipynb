{
 "cells": [
  {
   "cell_type": "markdown",
   "metadata": {},
   "source": [
    "# Aula 2: Manipulando Dados"
   ]
  },
  {
   "cell_type": "code",
   "execution_count": null,
   "metadata": {},
   "outputs": [],
   "source": [
    "name = \"Mikael\"\n",
    "type(name)"
   ]
  },
  {
   "cell_type": "code",
   "execution_count": null,
   "metadata": {},
   "outputs": [],
   "source": [
    "my_string = \"Grace\"\n",
    "my_int = 12\n",
    "my_float = 12.4\n",
    "my_bool = True\n",
    "\n",
    "print(my_string, my_int, my_float, my_bool)"
   ]
  },
  {
   "cell_type": "code",
   "execution_count": null,
   "metadata": {},
   "outputs": [],
   "source": [
    "tipo = type(name)\n",
    "print(str(tipo))"
   ]
  },
  {
   "cell_type": "markdown",
   "metadata": {},
   "source": [
    "### 2.1. Exponenciação"
   ]
  },
  {
   "cell_type": "code",
   "execution_count": null,
   "metadata": {},
   "outputs": [],
   "source": [
    "var = 2 ** 3\n",
    "print(var)"
   ]
  },
  {
   "cell_type": "markdown",
   "metadata": {},
   "source": [
    "### 2.2. Módulo\n"
   ]
  },
  {
   "cell_type": "code",
   "execution_count": null,
   "metadata": {},
   "outputs": [],
   "source": [
    "var = 7 % 3\n",
    "print(var)"
   ]
  },
  {
   "cell_type": "markdown",
   "metadata": {},
   "source": [
    "### 2.3. Divisão inteira"
   ]
  },
  {
   "cell_type": "code",
   "execution_count": null,
   "metadata": {},
   "outputs": [],
   "source": [
    "var = 7 // 3\n",
    "print(var)"
   ]
  },
  {
   "cell_type": "markdown",
   "metadata": {},
   "source": [
    "### 2.4. Manipulação de Strings"
   ]
  },
  {
   "cell_type": "code",
   "execution_count": null,
   "metadata": {},
   "outputs": [],
   "source": [
    "texto = \" Um dia uma vida \"\n",
    "\n",
    "texto01 = texto.replace('a', 'o')\n",
    "texto02 = texto.strip()\n",
    "texto03 = texto.upper()\n",
    "texto04 = texto.lower()\n",
    "\n",
    "texto05 = texto.strip().lower().replace('u', 'w')\n",
    "\n",
    "print(texto01)\n",
    "print(texto02)\n",
    "print(texto03)\n",
    "print(texto04)\n",
    "print(texto05)"
   ]
  },
  {
   "cell_type": "markdown",
   "metadata": {},
   "source": [
    "### 2.5. Inputando dados"
   ]
  },
  {
   "cell_type": "code",
   "execution_count": null,
   "metadata": {},
   "outputs": [],
   "source": [
    "nome = input(\"Nome: \")\n",
    "print(nome)"
   ]
  },
  {
   "cell_type": "markdown",
   "metadata": {},
   "source": [
    "### 2.6. Casting Explícito"
   ]
  },
  {
   "cell_type": "code",
   "execution_count": null,
   "metadata": {},
   "outputs": [],
   "source": [
    "var1 = 12.111\n",
    "var2 = 0\n",
    "var3 = 'a'\n",
    "var4 = 60\n",
    "\n",
    "print(int(var1))\n",
    "print(bool(var2))\n",
    "print(bool(var3))\n",
    "print(str(var4))\n",
    "print(chr(var4))\n"
   ]
  },
  {
   "cell_type": "markdown",
   "metadata": {},
   "source": [
    "### 2.7. Formatação de Strings "
   ]
  },
  {
   "cell_type": "code",
   "execution_count": null,
   "metadata": {},
   "outputs": [],
   "source": [
    "peso = float(input(\"Peso: \"))\n",
    "altura = float(input(\"Altura: \"))\n",
    "\n",
    "print(f\"Pesso: {peso:.2f}\\nAltura: {altura:.2f}\\n\")\n"
   ]
  },
  {
   "cell_type": "markdown",
   "metadata": {},
   "source": [
    "# Aula 3: Estruturas Condicionais"
   ]
  },
  {
   "cell_type": "markdown",
   "metadata": {},
   "source": [
    "### 3.1 if-else"
   ]
  },
  {
   "cell_type": "code",
   "execution_count": 16,
   "metadata": {},
   "outputs": [
    {
     "name": "stdout",
     "output_type": "stream",
     "text": [
      "Recueração\n"
     ]
    }
   ],
   "source": [
    "nota1 = 7.5\n",
    "nota2 = 2.5\n",
    "media = (2.5 + 7.5) / 2\n",
    "\n",
    "if media >= 6:\n",
    "    print(\"Aprovado\")\n",
    "elif media >= 4:\n",
    "    print(\"Recueração\")\n",
    "else:\n",
    "    (\"Reprovado\")"
   ]
  },
  {
   "cell_type": "markdown",
   "metadata": {},
   "source": [
    "#### Exercícios"
   ]
  },
  {
   "cell_type": "markdown",
   "metadata": {},
   "source": [
    "1) Escreva um programa que peça à pessoa usuária para fornecer dois números e exibir o número maior."
   ]
  },
  {
   "cell_type": "code",
   "execution_count": null,
   "metadata": {},
   "outputs": [],
   "source": [
    "num1 = int(input(\"Primeiro número: \"))\n",
    "num2 = int(input(\"Segundo número\"))\n",
    "\n",
    "if num1 > num2:\n",
    "    print(f\"{num1} é maior\")\n",
    "elif num1 < num2:\n",
    "    print(f\"{num2} é maior\")\n",
    "else:\n",
    "    print(\"Número iguais\")"
   ]
  },
  {
   "cell_type": "markdown",
   "metadata": {},
   "source": [
    "2) Escreva um programa que solicite o percentual de crescimento de produção de uma empresa e informe se houve um crescimento (porcentagem positiva) ou decrescimento (porcentagem negativa)."
   ]
  },
  {
   "cell_type": "code",
   "execution_count": 22,
   "metadata": {},
   "outputs": [
    {
     "name": "stdout",
     "output_type": "stream",
     "text": [
      "Não houve crescimento\n"
     ]
    }
   ],
   "source": [
    "crescimento_percent = float(input(\"Percentual de crescimento da empresa: \"))\n",
    "\n",
    "if crescimento_percent > 0:\n",
    "    print(\"Crescimento positivo\")\n",
    "elif crescimento_percent < 0:\n",
    "    print(\"Crescimento negativo\")\n",
    "else:\n",
    "    print(\"Não houve crescimento\")"
   ]
  },
  {
   "cell_type": "markdown",
   "metadata": {},
   "source": [
    "3) Escreva um programa que determine se uma letra fornecida pela pessoa usuária é uma vogal ou consoante."
   ]
  },
  {
   "cell_type": "code",
   "execution_count": 24,
   "metadata": {},
   "outputs": [
    {
     "name": "stdout",
     "output_type": "stream",
     "text": [
      "'c' é uma consoante\n"
     ]
    }
   ],
   "source": [
    "vogais = \"aeiou\"\n",
    "\n",
    "letra = input(\"Insira uma letra: \")\n",
    "\n",
    "if (letra in vogais):\n",
    "    print(f\"'{letra}' é uma vogal\")\n",
    "else:\n",
    "    print(f\"'{letra}' é uma consoante\")"
   ]
  },
  {
   "cell_type": "markdown",
   "metadata": {},
   "source": [
    "4) Escreva um programa que leia valores médios de preços de um modelo de carro por 3 anos consecutivos e exiba o valor mais alto e mais baixo entre esses três anos."
   ]
  },
  {
   "cell_type": "code",
   "execution_count": null,
   "metadata": {},
   "outputs": [],
   "source": [
    "ano1 = float(input(\"Valor em 2021: \"))\n",
    "ano2 = float(input(\"Valor em 2022: \"))\n",
    "ano3 = float(input(\"Valor em 2023: \"))\n",
    "\n",
    "maior = menor = ano1\n",
    "\n",
    "if ano2 > maior:\n",
    "  maior = ano2\n",
    "if ano2 < menor:\n",
    "  menor = ano2\n",
    "if ano3 > maior:\n",
    "  maior = ano3\n",
    "if ano3 < menor:\n",
    "    menor = ano3\n",
    "\n",
    "print(f\"Maior preço: {maior:.2f}\")\n",
    "print(f\"Menor preço: {menor:.2f}\")"
   ]
  }
 ],
 "metadata": {
  "kernelspec": {
   "display_name": "Python 3",
   "language": "python",
   "name": "python3"
  },
  "language_info": {
   "codemirror_mode": {
    "name": "ipython",
    "version": 3
   },
   "file_extension": ".py",
   "mimetype": "text/x-python",
   "name": "python",
   "nbconvert_exporter": "python",
   "pygments_lexer": "ipython3",
   "version": "3.12.2"
  }
 },
 "nbformat": 4,
 "nbformat_minor": 2
}
