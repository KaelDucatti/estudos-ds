{
 "cells": [
  {
   "cell_type": "markdown",
   "metadata": {},
   "source": [
    "# Aula 2: Manipulando Dados"
   ]
  },
  {
   "cell_type": "code",
   "execution_count": null,
   "metadata": {},
   "outputs": [],
   "source": [
    "name = \"Mikael\"\n",
    "type(name)"
   ]
  },
  {
   "cell_type": "code",
   "execution_count": null,
   "metadata": {},
   "outputs": [],
   "source": [
    "my_string = \"Grace\"\n",
    "my_int = 12\n",
    "my_float = 12.4\n",
    "my_bool = True\n",
    "\n",
    "print(my_string, my_int, my_float, my_bool)"
   ]
  },
  {
   "cell_type": "code",
   "execution_count": null,
   "metadata": {},
   "outputs": [],
   "source": [
    "tipo = type(name)\n",
    "print(str(tipo))"
   ]
  },
  {
   "cell_type": "markdown",
   "metadata": {},
   "source": [
    "### 2.1. Exponenciação"
   ]
  },
  {
   "cell_type": "code",
   "execution_count": null,
   "metadata": {},
   "outputs": [],
   "source": [
    "var = 2 ** 3\n",
    "print(var)"
   ]
  },
  {
   "cell_type": "markdown",
   "metadata": {},
   "source": [
    "### 2.2. Módulo\n"
   ]
  },
  {
   "cell_type": "code",
   "execution_count": null,
   "metadata": {},
   "outputs": [],
   "source": [
    "var = 7 % 3\n",
    "print(var)"
   ]
  },
  {
   "cell_type": "markdown",
   "metadata": {},
   "source": [
    "### 2.3. Divisão inteira"
   ]
  },
  {
   "cell_type": "code",
   "execution_count": null,
   "metadata": {},
   "outputs": [],
   "source": [
    "var = 7 // 3\n",
    "print(var)"
   ]
  },
  {
   "cell_type": "markdown",
   "metadata": {},
   "source": [
    "### 2.4. Manipulação de Strings"
   ]
  },
  {
   "cell_type": "code",
   "execution_count": null,
   "metadata": {},
   "outputs": [],
   "source": [
    "texto = \" Um dia uma vida \"\n",
    "\n",
    "texto01 = texto.replace('a', 'o')\n",
    "texto02 = texto.strip()\n",
    "texto03 = texto.upper()\n",
    "texto04 = texto.lower()\n",
    "\n",
    "texto05 = texto.strip().lower().replace('u', 'w')\n",
    "\n",
    "print(texto01)\n",
    "print(texto02)\n",
    "print(texto03)\n",
    "print(texto04)\n",
    "print(texto05)"
   ]
  },
  {
   "cell_type": "markdown",
   "metadata": {},
   "source": [
    "### 2.5. Inputando dados"
   ]
  },
  {
   "cell_type": "code",
   "execution_count": null,
   "metadata": {},
   "outputs": [],
   "source": [
    "nome = input(\"Nome: \")\n",
    "print(nome)"
   ]
  },
  {
   "cell_type": "markdown",
   "metadata": {},
   "source": [
    "### 2.6. Casting Explícito"
   ]
  },
  {
   "cell_type": "code",
   "execution_count": null,
   "metadata": {},
   "outputs": [],
   "source": [
    "var1 = 12.111\n",
    "var2 = 0\n",
    "var3 = 'a'\n",
    "var4 = 60\n",
    "\n",
    "print(int(var1))\n",
    "print(bool(var2))\n",
    "print(bool(var3))\n",
    "print(str(var4))\n",
    "print(chr(var4))\n"
   ]
  },
  {
   "cell_type": "markdown",
   "metadata": {},
   "source": [
    "### 2.7. Formatação de Strings "
   ]
  },
  {
   "cell_type": "code",
   "execution_count": null,
   "metadata": {},
   "outputs": [],
   "source": [
    "peso = float(input(\"Peso: \"))\n",
    "altura = float(input(\"Altura: \"))\n",
    "\n",
    "print(f\"Pesso: {peso:.2f}\\nAltura: {altura:.2f}\\n\")\n"
   ]
  },
  {
   "cell_type": "markdown",
   "metadata": {},
   "source": [
    "# Aula 3: Estruturas Condicionais"
   ]
  },
  {
   "cell_type": "markdown",
   "metadata": {},
   "source": [
    "### 3.1 if-else"
   ]
  },
  {
   "cell_type": "code",
   "execution_count": 16,
   "metadata": {},
   "outputs": [
    {
     "name": "stdout",
     "output_type": "stream",
     "text": [
      "Recueração\n"
     ]
    }
   ],
   "source": [
    "nota1 = 7.5\n",
    "nota2 = 2.5\n",
    "media = (2.5 + 7.5) / 2\n",
    "\n",
    "if media >= 6:\n",
    "    print(\"Aprovado\")\n",
    "elif media >= 4:\n",
    "    print(\"Recueração\")\n",
    "else:\n",
    "    (\"Reprovado\")"
   ]
  },
  {
   "cell_type": "markdown",
   "metadata": {},
   "source": [
    "### Exercícios"
   ]
  },
  {
   "cell_type": "markdown",
   "metadata": {},
   "source": [
    "###### 1) Escreva um programa que peça à pessoa usuária para fornecer dois números e exibir o número maior."
   ]
  },
  {
   "cell_type": "code",
   "execution_count": null,
   "metadata": {},
   "outputs": [],
   "source": [
    "num1 = int(input(\"Primeiro número: \"))\n",
    "num2 = int(input(\"Segundo número\"))\n",
    "\n",
    "if num1 > num2:\n",
    "    print(f\"{num1} é maior\")\n",
    "elif num1 < num2:\n",
    "    print(f\"{num2} é maior\")\n",
    "else:\n",
    "    print(\"Número iguais\")"
   ]
  },
  {
   "cell_type": "markdown",
   "metadata": {},
   "source": [
    "###### 2) Escreva um programa que solicite o percentual de crescimento de produção de uma empresa e informe se houve um crescimento (porcentagem positiva) ou decrescimento (porcentagem negativa)."
   ]
  },
  {
   "cell_type": "code",
   "execution_count": 22,
   "metadata": {},
   "outputs": [
    {
     "name": "stdout",
     "output_type": "stream",
     "text": [
      "Não houve crescimento\n"
     ]
    }
   ],
   "source": [
    "crescimento_percent = float(input(\"Percentual de crescimento da empresa: \"))\n",
    "\n",
    "if crescimento_percent > 0:\n",
    "    print(\"Crescimento positivo\")\n",
    "elif crescimento_percent < 0:\n",
    "    print(\"Crescimento negativo\")\n",
    "else:\n",
    "    print(\"Não houve crescimento\")"
   ]
  },
  {
   "cell_type": "markdown",
   "metadata": {},
   "source": [
    "###### 3) Escreva um programa que determine se uma letra fornecida pela pessoa usuária é uma vogal ou consoante."
   ]
  },
  {
   "cell_type": "code",
   "execution_count": 24,
   "metadata": {},
   "outputs": [
    {
     "name": "stdout",
     "output_type": "stream",
     "text": [
      "'c' é uma consoante\n"
     ]
    }
   ],
   "source": [
    "vogais = \"aeiou\"\n",
    "\n",
    "letra = input(\"Insira uma letra: \")\n",
    "\n",
    "if (letra in vogais):\n",
    "    print(f\"'{letra}' é uma vogal\")\n",
    "else:\n",
    "    print(f\"'{letra}' é uma consoante\")"
   ]
  },
  {
   "cell_type": "markdown",
   "metadata": {},
   "source": [
    "###### 4) Escreva um programa que leia valores médios de preços de um modelo de carro por 3 anos consecutivos e exiba o valor mais alto e mais baixo entre esses três anos."
   ]
  },
  {
   "cell_type": "code",
   "execution_count": null,
   "metadata": {},
   "outputs": [],
   "source": [
    "ano1 = float(input(\"Valor em 2021: \"))\n",
    "ano2 = float(input(\"Valor em 2022: \"))\n",
    "ano3 = float(input(\"Valor em 2023: \"))\n",
    "\n",
    "maior = menor = ano1\n",
    "\n",
    "if ano2 > maior:\n",
    "  maior = ano2\n",
    "if ano2 < menor:\n",
    "  menor = ano2\n",
    "if ano3 > maior:\n",
    "  maior = ano3\n",
    "if ano3 < menor:\n",
    "    menor = ano3\n",
    "\n",
    "print(f\"Maior preço: {maior:.2f}\")\n",
    "print(f\"Menor preço: {menor:.2f}\")"
   ]
  },
  {
   "cell_type": "markdown",
   "metadata": {},
   "source": [
    "###### 5) Escreva um programa que pergunte sobre o preço de três produtos e indique qual é o produto mais barato para comprar."
   ]
  },
  {
   "cell_type": "code",
   "execution_count": null,
   "metadata": {},
   "outputs": [],
   "source": [
    "produto1 = float(input(\"Produto 1 = \"))\n",
    "produto2 = float(input(\"Produto 2 = \"))\n",
    "produto3 = float(input(\"Produto 3 = \"))\n",
    "\n",
    "menor_preco = produto1 \n",
    " \n",
    "if produto2 < menor_preco:\n",
    "    menor_preco = produto2\n",
    "if produto3 < menor_preco:\n",
    "    menor_preco = produto3\n",
    "\n",
    "print(f\"Menor preço: {menor_preco:.2f}\")"
   ]
  },
  {
   "cell_type": "markdown",
   "metadata": {},
   "source": [
    "###### 6) Escreva um programa que leia três números e os exiba em ordem decrescente."
   ]
  },
  {
   "cell_type": "code",
   "execution_count": 9,
   "metadata": {},
   "outputs": [
    {
     "name": "stdout",
     "output_type": "stream",
     "text": [
      "4.0\n",
      "3.0\n",
      "3.0\n"
     ]
    }
   ],
   "source": [
    "num1 = float(input(\"Número 1: \"))\n",
    "num2 = float(input(\"Número 2: \"))\n",
    "num3 = float(input(\"Número 3: \"))\n",
    "\n",
    "if (num1 >= num2) and (num1 >= 3):\n",
    "    print(num1)\n",
    "    if (num2 >= num3):\n",
    "        print(num2)\n",
    "        print(num3)\n",
    "    else:\n",
    "        print(num3)\n",
    "        print(num2)\n",
    "elif (num2 >= num3) and (num2 >= num1):\n",
    "    print(num2)\n",
    "    if (num1 >= num3):\n",
    "        print(num1)\n",
    "        print(num3)\n",
    "    else:\n",
    "        print(num3)\n",
    "        print(num1)\n",
    "else:\n",
    "    print(num3)\n",
    "    if (num1 >= num2):\n",
    "        print(num1)\n",
    "        print(num2)\n",
    "    else:\n",
    "        print(num2)\n",
    "        print(num1)\n"
   ]
  },
  {
   "cell_type": "markdown",
   "metadata": {},
   "source": [
    "###### 7) Escreva um programa que pergunte em qual turno a pessoa usuária estuda (\"manhã\", \"tarde\" ou \"noite\") e exiba a mensagem \"Bom Dia!\", \"Boa Tarde!\", \"Boa Noite!\", ou \"Valor Inválido!\", conforme o caso."
   ]
  },
  {
   "cell_type": "code",
   "execution_count": 12,
   "metadata": {},
   "outputs": [
    {
     "name": "stdout",
     "output_type": "stream",
     "text": [
      "Valor inválido\n"
     ]
    }
   ],
   "source": [
    "turno = input(\"Em qual turno você estuda? (manhã/tarde/noite) \").lower()\n",
    "\n",
    "if turno == 'manhã':\n",
    "    print(\"Bom dia\")\n",
    "elif (turno == 'tarde'):\n",
    "    print(\"Boa tarde\")\n",
    "elif (turno == 'noite'):\n",
    "    print(\"Boa noite\")\n",
    "else:\n",
    "    print(\"Valor inválido\")"
   ]
  },
  {
   "cell_type": "markdown",
   "metadata": {},
   "source": [
    "###### 8) Escreva um programa que peça um número inteiro à pessoa usuária e determine se ele é par ou ímpar. Dica: Você pode utilizar o operador módulo %."
   ]
  },
  {
   "cell_type": "code",
   "execution_count": null,
   "metadata": {},
   "outputs": [],
   "source": [
    "numero = int(input(\"Digite um número: \"))\n",
    "\n",
    "if (numero % 2 == 0):\n",
    "    print(\"Par\")\n",
    "else:\n",
    "    print(\"Ímpar\")"
   ]
  },
  {
   "cell_type": "markdown",
   "metadata": {},
   "source": [
    "###### 9) Escreva um programa que peça um número à pessoa usuária e informe se ele é inteiro ou decimal."
   ]
  },
  {
   "cell_type": "code",
   "execution_count": null,
   "metadata": {},
   "outputs": [],
   "source": [
    "numero = input(\"Digite um número: \")\n",
    "\n",
    "if ('.' in numero):\n",
    "    print(\"Decimal\")\n",
    "else:\n",
    "    print(\"Inteiro\")"
   ]
  },
  {
   "cell_type": "markdown",
   "metadata": {},
   "source": [
    "###### 10) Um programa deve ser escrito para ler dois números e, em seguida, perguntar à pessoa usuária qual operação ele deseja realizar. O resultado da operação deve incluir informações sobre o número - se é par ou ímpar, positivo ou negativo e inteiro ou decimal."
   ]
  },
  {
   "cell_type": "code",
   "execution_count": null,
   "metadata": {},
   "outputs": [],
   "source": [
    "num1 = input(\"Primeiro num: \")\n",
    "num2 = input(\"Segundo num: \")\n",
    "\n",
    "print(\"Selecione uma operação matemática: \")\n",
    "print(\"1. Adição\")\n",
    "print(\"2. Subtração\")\n",
    "print(\"3. Multiplicação\")\n",
    "print(\"4. Divisão\")\n",
    "\n",
    "resultado = float()\n",
    "operacao = int(input())\n",
    "\n",
    "# Operação matemática\n",
    "if (operacao == 1):\n",
    "    resultado = float(num1) + float(num2)\n",
    "elif (operacao == 2):\n",
    "    resultado = float(num1) - float(num2)\n",
    "elif (operacao == 3):\n",
    "    resultado = float(num1) * float(num2)\n",
    "elif (operacao == 4):\n",
    "    resultado = float(num1) / float(num2)\n",
    "else:\n",
    "    print(\"Valor inválido\")\n",
    "\n",
    "# Resultado\n",
    "print(f\"\\nResultado da operação: {resultado}\")\n",
    "print(\"\\nCaracterísticas do número: \\n\")\n",
    "\n",
    "# Par ou ímpar\n",
    "if (resultado % 2 == 0):\n",
    "    print(\"Par\")\n",
    "else:\n",
    "    print(\"Ímpar\")\n",
    "\n",
    "# Positivo ou negativo\n",
    "if (resultado >= 0):\n",
    "    print(\"Positivo\")\n",
    "else:\n",
    "    print(\"Negativo\")\n",
    "\n",
    "# Decimal ou inteiro\n",
    "if (resultado % 1 == 0):\n",
    "    print(\"Inteiro\")\n",
    "else:\n",
    "    print(\"Decimal\")"
   ]
  },
  {
   "cell_type": "markdown",
   "metadata": {},
   "source": [
    "###### 11) Escreva um programa que peça à pessoa usuária três números que representam os lados de um triângulo. O programa deve informar se os valores podem ser utilizados para formar um triângulo e, caso afirmativo, se ele é equilátero, isósceles ou escaleno. Tenha em mente algumas dicas:\n",
    "\n",
    "###### Três lados formam um triângulo quando a soma de quaisquer dois lados for maior que o terceiro;\n",
    "###### Triângulo Equilátero: três lados iguais;\n",
    "###### Triângulo Isósceles: quaisquer dois lados iguais;\n",
    "###### Triângulo Escaleno: três lados diferentes."
   ]
  },
  {
   "cell_type": "code",
   "execution_count": null,
   "metadata": {},
   "outputs": [],
   "source": [
    "A = float(input(\"A: \"))\n",
    "B = float(input(\"B: \"))\n",
    "C = float(input(\"C: \"))\n",
    "\n",
    "if (A + B > C) and (A + C > B) and (C + B > A):\n",
    "    if (A == B) and (B == C):\n",
    "        print(\"Triângulo equilátero\")\n",
    "    elif (A != B) and (A != C) and (C != B):\n",
    "        print(\"Triângulo escaleno\")\n",
    "    else:\n",
    "        print(\"Triângulo isósceles\")\n",
    "else:\n",
    "    print(\"Os lados não formam um triângulo\")"
   ]
  },
  {
   "cell_type": "markdown",
   "metadata": {},
   "source": [
    "###### 12) Um estabelecimento está vendendo combustíveis com descontos variados. Para o etanol, se a quantidade comprada for até 15 litros, o desconto será de 2% por litro. Caso contrário, será de 4% por litro. Para o diesel, se a quantidade comprada for até 15 litros, o desconto será de 3% por litro. Caso contrário, será de 5% por litro. O preço do litro de diesel é R$ 2,00 e o preço do litro de etanol é R$ 1,70. Escreva um programa que leia a quantidade de litros vendidos e o tipo de combustível (E para etanol e D para diesel) e calcule o valor a ser pago pelo cliente. Tenha em mente algumas dicas:\n",
    "\n",
    "###### O do valor do desconto será a multiplicação entre preço do litro, quantidade de litros e o valor do desconto.\n",
    "###### O valor a ser pago por um cliente será o resultado da multiplicação do preço do litro pela quantidade de litros menos o valor de desconto resultante do cálculo."
   ]
  },
  {
   "cell_type": "code",
   "execution_count": 39,
   "metadata": {},
   "outputs": [
    {
     "name": "stdout",
     "output_type": "stream",
     "text": [
      "Valor pago com desconto de 3%: 19.40\n"
     ]
    }
   ],
   "source": [
    "tipo_combustivel = input(\"Etanol ou diesel? [e/d]\")\n",
    "qtd_litros = int(input(\"Quantos litros? \"))\n",
    "\n",
    "if (tipo_combustivel == 'e'):\n",
    "    if qtd_litros > 15:\n",
    "        total = (qtd_litros * 1.7) * 0.96\n",
    "        print(f\"Valor pago com desconto de 4%: {total:.2f}\")\n",
    "    else:\n",
    "        total = (qtd_litros * 1.7) * 0.98\n",
    "        print(f\"Valor pago com desconto de 2%: {total:.2f}\")\n",
    "else:\n",
    "    if qtd_litros > 15:\n",
    "        total = (qtd_litros * 2.0) * 0.95\n",
    "        print(f\"Valor pago com desconto de 5%: {total:.2f}\")\n",
    "    else:\n",
    "        total = (qtd_litros * 2.0) * 0.97\n",
    "        print(f\"Valor pago com desconto de 3%: {total:.2f}\")"
   ]
  },
  {
   "cell_type": "markdown",
   "metadata": {},
   "source": [
    "###### 13) Em uma empresa de venda de imóveis você precisa criar um código que analise os dados de vendas anuais para ajudar a diretoria na tomada de decisão. O código precisa coletar os dados de quantidade de venda durante os anos de 2022 e 2023 e fazer um cálculo de variação percentual. A partir do valor da variação, deve ser enviada às seguintes sugestões:\n",
    "\n",
    "###### Para variação acima de 20%: bonificação para o time de vendas.\n",
    "###### Para variação entre 2% e 20%: pequena bonificação para time de vendas.\n",
    "###### Para variação entre 2% e -10%: planejamento de políticas de incentivo às vendas.\n",
    "###### Para bonificações abaixo de -10%: corte de gastos."
   ]
  },
  {
   "cell_type": "code",
   "execution_count": 44,
   "metadata": {},
   "outputs": [
    {
     "name": "stdout",
     "output_type": "stream",
     "text": [
      "Variação de vendas de 2022 para 2023: 100.00\n",
      "Bonificação para o time de vendas\n"
     ]
    }
   ],
   "source": [
    "qtd_vendas_2022 = int(input(\"Quantidade de vendas em 2022: \"))\n",
    "qtd_vendas_2023 = int(input(\"Quantidade de vendas em 2023: \"))\n",
    "\n",
    "variacao_anual = qtd_vendas_2023 - qtd_vendas_2022\n",
    "variacao_percentual = variacao_anual * 100 / qtd_vendas_2022\n",
    "\n",
    "print(f\"Variação de vendas de 2022 para 2023: {variacao_percentual:.2f}\")\n",
    "\n",
    "if (variacao_percentual >= 20.0):\n",
    "    print(\"Bonificação para o time de vendas\")\n",
    "elif (variacao_percentual >= 2.0):\n",
    "    print(\"Pequena bonificação para o time de vendas\")\n",
    "elif (variacao_percentual >= -10.0):\n",
    "    print(\"Planejamento de políticas de incentivo às vendas\")\n",
    "else:\n",
    "    print(\"Corte de gastos\")"
   ]
  }
 ],
 "metadata": {
  "kernelspec": {
   "display_name": "Python 3",
   "language": "python",
   "name": "python3"
  },
  "language_info": {
   "codemirror_mode": {
    "name": "ipython",
    "version": 3
   },
   "file_extension": ".py",
   "mimetype": "text/x-python",
   "name": "python",
   "nbconvert_exporter": "python",
   "pygments_lexer": "ipython3",
   "version": "3.12.2"
  }
 },
 "nbformat": 4,
 "nbformat_minor": 2
}
