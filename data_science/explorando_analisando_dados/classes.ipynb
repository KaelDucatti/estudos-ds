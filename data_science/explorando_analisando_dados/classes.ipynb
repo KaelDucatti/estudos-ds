{
 "cells": [
  {
   "cell_type": "markdown",
   "metadata": {},
   "source": [
    "# `Class 1: Knowing the Data`"
   ]
  },
  {
   "cell_type": "code",
   "execution_count": null,
   "metadata": {},
   "outputs": [],
   "source": [
    "import pandas as pd\n",
    "import seaborn as sns\n",
    "import matplotlib.pyplot as plt"
   ]
  },
  {
   "cell_type": "markdown",
   "metadata": {},
   "source": [
    "### 1.1 Conhecendo nossos dados e o Pandas\n"
   ]
  },
  {
   "cell_type": "code",
   "execution_count": null,
   "metadata": {},
   "outputs": [],
   "source": [
    "# importando pandas\n",
    "import pandas as pd\n"
   ]
  },
  {
   "cell_type": "code",
   "execution_count": null,
   "metadata": {},
   "outputs": [],
   "source": [
    "# carregando arquivo\n",
    "url = 'https://raw.githubusercontent.com/alura-cursos/introducao-a-data-science/master/aula0/ml-latest-small/ratings.csv'\n",
    "\n",
    "df_1 = pd.read_csv(url, sep=',')\n",
    "df_1\n"
   ]
  },
  {
   "cell_type": "code",
   "execution_count": null,
   "metadata": {},
   "outputs": [],
   "source": [
    "# verificando formato do DataFrama\n",
    "df_1.shape\n"
   ]
  },
  {
   "cell_type": "code",
   "execution_count": null,
   "metadata": {},
   "outputs": [],
   "source": [
    "# verificando nomes das colunas\n",
    "df_1.columns\n"
   ]
  },
  {
   "cell_type": "code",
   "execution_count": null,
   "metadata": {},
   "outputs": [],
   "source": [
    "# primeiras 10 linhas\n",
    "df_1.head(10)\n"
   ]
  },
  {
   "cell_type": "markdown",
   "metadata": {},
   "source": [
    "### 1.2 Primeiras visualizações "
   ]
  },
  {
   "cell_type": "code",
   "execution_count": null,
   "metadata": {},
   "outputs": [],
   "source": [
    "# plotando algumas informações\n",
    "df_1['rating'].plot(kind='hist')\n"
   ]
  },
  {
   "cell_type": "code",
   "execution_count": null,
   "metadata": {},
   "outputs": [],
   "source": [
    "# calculando média de uma coluna\n",
    "media = df_1[\"rating\"].mean()\n",
    "\n",
    "# calculando mediana de uma coluna\n",
    "mediana = df_1[\"rating\"].median()\n",
    "\n",
    "print(media)\n",
    "print(mediana)\n"
   ]
  },
  {
   "cell_type": "code",
   "execution_count": null,
   "metadata": {},
   "outputs": [],
   "source": [
    "# utilizando função `describe`\n",
    "df_1[\"rating\"].describe()\n"
   ]
  },
  {
   "cell_type": "code",
   "execution_count": null,
   "metadata": {},
   "outputs": [],
   "source": [
    "# plotando algo com boxplot\n",
    "sns.boxplot(df_1[\"rating\"]) \n"
   ]
  },
  {
   "cell_type": "markdown",
   "metadata": {},
   "source": [
    "# `Class 2: Analyzing the Data`"
   ]
  },
  {
   "cell_type": "markdown",
   "metadata": {},
   "source": [
    "### 2.1 Explorando os Dados"
   ]
  },
  {
   "cell_type": "code",
   "execution_count": null,
   "metadata": {},
   "outputs": [],
   "source": [
    "# importando nova tabela com mais infos sobre os filmes\n",
    "url2 = \"https://raw.githubusercontent.com/alura-cursos/data-science-analise-exploratoria/main/Aula_0/ml-latest-small/movies.csv\"\n",
    "\n",
    "df_2 = pd.read_csv(\n",
    "    url2,\n",
    "    sep=\",\"\n",
    ")\n",
    "\n",
    "df_2\n"
   ]
  },
  {
   "cell_type": "code",
   "execution_count": null,
   "metadata": {},
   "outputs": [],
   "source": [
    "# média de notas relacionadas ao filme de id == 1\n",
    "media1 = df_1.query(\"movieId == 1\")[\"rating\"].mean()\n",
    "\n",
    "# podemos escrever essa mesma query acima da seguinte forma\n",
    "media2 = df_1[df_1[\"movieId\"] == 1][\"rating\"].mean()\n",
    "\n",
    "print(media1)\n",
    "print(media2)"
   ]
  },
  {
   "cell_type": "code",
   "execution_count": null,
   "metadata": {},
   "outputs": [],
   "source": [
    "# agrupando informações por id do filme e trazendo a média de cada um deles\n",
    "medias_por_filme = df_1.groupby(\"movieId\")[\"rating\"].mean()\n",
    "medias_por_filme.head()\n"
   ]
  },
  {
   "cell_type": "markdown",
   "metadata": {},
   "source": [
    "### 2.2 Distribuindo as Médias dos Filmes"
   ]
  },
  {
   "cell_type": "code",
   "execution_count": null,
   "metadata": {},
   "outputs": [],
   "source": [
    "# gráfico de médias por filme\n",
    "sns.boxplot(medias_por_filme)\n"
   ]
  },
  {
   "cell_type": "code",
   "execution_count": null,
   "metadata": {},
   "outputs": [],
   "source": [
    "# utilizando describe() para comparar infos com o gráfico de boxplot\n",
    "medias_por_filme.describe()"
   ]
  },
  {
   "cell_type": "code",
   "execution_count": null,
   "metadata": {},
   "outputs": [],
   "source": [
    "# utilzando função do seaborn e matplotlib para mostrar um gráfico de dispersão \n",
    "sns.displot(medias_por_filme, kde=True)\n",
    "plt.title(\"Histograma das médias dos filmes\")"
   ]
  },
  {
   "cell_type": "markdown",
   "metadata": {},
   "source": [
    "# `Class 3: Understanding Variables Types`"
   ]
  },
  {
   "cell_type": "markdown",
   "metadata": {},
   "source": [
    "### 3.1 Explorando a base de dados do TMDB"
   ]
  },
  {
   "cell_type": "code",
   "execution_count": null,
   "metadata": {},
   "outputs": [],
   "source": [
    "# importando nova base de dados\n",
    "df_3 = pd.read_csv(\"arquivos/tmdb_5000_movies.csv\", sep=\",\")\n",
    "df_3\n"
   ]
  },
  {
   "cell_type": "code",
   "execution_count": null,
   "metadata": {},
   "outputs": [],
   "source": [
    "# plotando faturamento dos filmes \n",
    "sns.displot(df_3[\"revenue\"])\n",
    "plt.title(\"Distribuição da receita dos filmes\")\n",
    "plt.show()"
   ]
  },
  {
   "cell_type": "code",
   "execution_count": null,
   "metadata": {},
   "outputs": [],
   "source": [
    "# verificando que tipo de informações há no DataFrame \n",
    "df_3.info()"
   ]
  },
  {
   "cell_type": "code",
   "execution_count": null,
   "metadata": {},
   "outputs": [],
   "source": [
    "# Tratando os dados e tirando todos aquels que tem \"revenue\" == 0\n",
    "com_faturamento = df_3.query(\"revenue > 0\")\n",
    "\n",
    "# plotando as informações que filtramos\n",
    "sns.displot(com_faturamento[\"revenue\"])\n",
    "plt.show()"
   ]
  },
  {
   "cell_type": "markdown",
   "metadata": {},
   "source": [
    "### 3.2 Tipos de Variáveis"
   ]
  },
  {
   "cell_type": "code",
   "execution_count": null,
   "metadata": {},
   "outputs": [],
   "source": [
    "# mostrando valores únicos da coluan \"original_language\"\n",
    "df_3[\"original_language\"].unique()\n",
    "\n",
    "# mostando o número de vezes que cada valor único, da coluna \"original_language\", aparece\n",
    "df_3[\"original_language\"].value_counts()"
   ]
  },
  {
   "cell_type": "code",
   "execution_count": null,
   "metadata": {},
   "outputs": [],
   "source": [
    "# distribuição da média das notas do TMDB (vote_avarage) em que o número de votos (vote_count) seja maior que 10\n",
    "df_votos_maior_dez = df_3.query(\"vote_count > 10\")\n",
    "df_media_votos = df_votos_maior_dez[\"vote_average\"]\n",
    "\n",
    "# plotando gráfico da informação que obitevemos\n",
    "sns.displot(df_media_votos)\n",
    "plt.title(\"Média dos votos dos Filmes com mais de 10 votos\")\n",
    "plt.xlabel(\"Média\")\n",
    "plt.ylabel(\"Qtd. votos\")\n",
    "plt.show()"
   ]
  },
  {
   "cell_type": "markdown",
   "metadata": {},
   "source": [
    "# `Class 4: Viewing Data`"
   ]
  },
  {
   "cell_type": "markdown",
   "metadata": {},
   "source": [
    "### 4.1 Visualizando Gráficos por Categoria"
   ]
  },
  {
   "cell_type": "code",
   "execution_count": null,
   "metadata": {},
   "outputs": [],
   "source": [
    "# mostando o número de vezes que cada valor único, da coluna \"original_language\", aparece\n",
    "total_por_lingua = df_3[\"original_language\"].value_counts()\n",
    "\n",
    "# Transformando a Serie obita em um DataFrama\n",
    "total_por_lingua = total_por_lingua.to_frame()\n",
    "\n",
    "# resentando o index para organizar os cabeçalhos\n",
    "total_por_lingua = total_por_lingua.reset_index()\n",
    "\n",
    "# modificando o nome das colunas para que estejam coesas com o que esta sendo mostrado\n",
    "total_por_lingua.columns = [\"original_language\", \"total\"]\n",
    "\n",
    "# plotando o gráfico das informações obtidas\n",
    "sns.barplot(\n",
    "    data=total_por_lingua,\n",
    "    x=\"original_language\",\n",
    "    y=\"total\",\n",
    "    orient=\"h\",\n",
    "    hue=\"total\",\n",
    "    palette=\"coolwarm\",\n",
    "    errorbar=None\n",
    ")"
   ]
  },
  {
   "cell_type": "code",
   "execution_count": null,
   "metadata": {},
   "outputs": [],
   "source": [
    "# Podemos fazer extamente a mesma coisa que fizemos na célula anterior com menos código da seguinte forma:\n",
    "ax = sns.countplot(\n",
    "    data=df_3, \n",
    "    y=\"original_language\",\n",
    "    hue=\"original_language\",\n",
    "    palette=\"coolwarm\"\n",
    ")"
   ]
  },
  {
   "cell_type": "markdown",
   "metadata": {},
   "source": [
    "### 4.2 Passando uma mensagem através de Visualização"
   ]
  },
  {
   "cell_type": "code",
   "execution_count": null,
   "metadata": {},
   "outputs": [],
   "source": [
    "# Separando total de filme inglâs de não-inglês\n",
    "total_ingles = total_por_lingua.loc[0, \"total\"]\n",
    "\n",
    "# Somando valores da coluna total\n",
    "total_geral = total_por_lingua[\"total\"].sum()\n",
    "\n",
    "# Subtração do total de  \"outras linguas\" pelo total de filmes em inglês \n",
    "total_resto = total_geral - total_ingles\n",
    "\n",
    "total_por_lingua\n"
   ]
  },
  {
   "cell_type": "code",
   "execution_count": null,
   "metadata": {},
   "outputs": [],
   "source": [
    "# criando um DataFrame a partir das variávels \"total_ingles\" e \"total_geral\"\n",
    "dados = {\n",
    "    \"lingua\": [\"Inglês\", \"Outros\"],\n",
    "    \"total\": [total_ingles, total_resto]\n",
    "}\n",
    "\n",
    "# transformando para DataFrame\n",
    "dados = pd.DataFrame(dados)\n",
    "dados.head(10)"
   ]
  },
  {
   "cell_type": "code",
   "execution_count": null,
   "metadata": {},
   "outputs": [],
   "source": [
    "# plotando um gráfico com essas informações\n",
    "sns.barplot(\n",
    "    dados, \n",
    "    x=\"total\", \n",
    "    y=\"lingua\", \n",
    "    hue=\"lingua\", \n",
    "    palette=\"dark\",\n",
    "    errorbar=None\n",
    ")\n",
    "plt.title(\"Inglês x Outros\")\n",
    "plt.show()"
   ]
  },
  {
   "cell_type": "markdown",
   "metadata": {},
   "source": [
    "### 4.3 Interpretando o propósito de uma Visualização"
   ]
  },
  {
   "cell_type": "code",
   "execution_count": null,
   "metadata": {},
   "outputs": [],
   "source": [
    "# fazendo uma query que forneça o total, por grupo, de filmes que NÃO são originais do inglês \n",
    "outras_linguas = df_3.query(\"original_language != 'en'\")\n",
    "sns.countplot(\n",
    "    data=outras_linguas,\n",
    "    x=\"original_language\"\n",
    ")\n",
    "plt.show()"
   ]
  },
  {
   "cell_type": "markdown",
   "metadata": {},
   "source": [
    "# `Class 5: Adjusting the Visuals`"
   ]
  },
  {
   "cell_type": "markdown",
   "metadata": {},
   "source": [
    "### 5.1 Gráfico de Dispersão com Retas de Regressão Linear"
   ]
  },
  {
   "cell_type": "code",
   "execution_count": null,
   "metadata": {},
   "outputs": [],
   "source": [
    "# filtrando os dados para as colunas desejadas\n",
    "dados = df_3[[\"title\", \"original_language\", \"budget\", \"revenue\"]]\n",
    "linguas = [\"fr\", \"de\", \"es\"]\n",
    "\n",
    "# filtrando apenas as colunas que retornam True para as seguintes condicionais\n",
    "filtro_linguas = dados.query(\"original_language == @linguas and revenue > 0 and budget > 0\")\n",
    "\n",
    "# construindo gráfico de dispersão mais a reta de regressão linear para cada caso\n",
    "sns.lmplot(\n",
    "    data=filtro_linguas,\n",
    "    x=\"budget\",\n",
    "    y=\"revenue\",\n",
    "    col=\"original_language\",\n",
    "    hue=\"original_language\",\n",
    "    height=4,\n",
    "    markers=[\"o\", \"s\", \"^\"],\n",
    "    scatter_kws={\"s\": 30, \"alpha\": 0.5}\n",
    ")\n"
   ]
  },
  {
   "cell_type": "markdown",
   "metadata": {},
   "source": [
    "### 5.2 Refinando uma Visualização"
   ]
  },
  {
   "cell_type": "code",
   "execution_count": 40,
   "metadata": {},
   "outputs": [
    {
     "data": {
      "image/png": "[encoded data removed]",
      "text/plain": [
       "<Figure size 1000x500 with 1 Axes>"
      ]
     },
     "metadata": {},
     "output_type": "display_data"
    }
   ],
   "source": [
    "# variável utilizada para ordenadar as barras do gráfico. É inserida no parâmetro `order` da função `countplot()`\n",
    "order = outras_linguas[\"original_language\"].value_counts().index\n",
    "\n",
    "# a função `figure()` do Matplotlib no ajuda a editar coisa do gráfico como: altura, largura, cor, resolução, etc.\n",
    "plt.figure(\n",
    "    figsize=(10, 5),\n",
    "    facecolor=\"lightblue\",\n",
    "    edgecolor=\"black\",\n",
    "    num=\"first\"\n",
    ")\n",
    "\n",
    "# melhorando gráfico de distribuição de linguas por filmes (exceto inglês)\n",
    "sns.countplot(\n",
    "    data=outras_linguas,\n",
    "    x=\"original_language\",\n",
    "    order=order,\n",
    "    palette=\"mako\",\n",
    "    hue=\"original_language\",\n",
    "    hue_order=order,\n",
    "    stat=\"percent\"\n",
    ")\n",
    "plt.title(\"Distribuição de linguas por filmes (exceto inglês)\")\n",
    "plt.show()"
   ]
  },
  {
   "cell_type": "markdown",
   "metadata": {},
   "source": [
    "# `Class 6: Data Statistics`"
   ]
  },
  {
   "cell_type": "markdown",
   "metadata": {},
   "source": [
    "### 6.1 Medidas de tendência central e desvio padrão"
   ]
  },
  {
   "cell_type": "code",
   "execution_count": null,
   "metadata": {},
   "outputs": [],
   "source": [
    "# notas dadas aos filmes toy_story e jumanji\n",
    "notas_toy_story = df_1.query(\"movieId == 1\")[\"rating\"].to_frame()\n",
    "notas_jumanji = df_1.query(\"movieId == 2\")[\"rating\"].to_frame()\n",
    "\n",
    "\n",
    "\n",
    "# média das notas dadas\n",
    "media_toy_story = notas_toy_story.mean()\n",
    "media_jumanji = notas_jumanji.mean()\n",
    "\n",
    "print(media_toy_story)\n",
    "print(media_jumanji)"
   ]
  },
  {
   "cell_type": "code",
   "execution_count": 33,
   "metadata": {},
   "outputs": [
    {
     "data": {
      "image/png": "[encoded data removed]",
      "text/plain": [
       "<Figure size 640x480 with 1 Axes>"
      ]
     },
     "metadata": {},
     "output_type": "display_data"
    }
   ],
   "source": [
    "# DataFrame com as notas dadas para os dois filmes\n",
    "notas_dos_filmes = df_1.query(\"movieId == 1 or movieId == 2\")[[\"movieId\", \"rating\"]]\n",
    "\n",
    "# criando coluna nova com o título do filme usando como base a coluna movieId\n",
    "notas_dos_filmes[\"Title\"] = notas_dos_filmes[\"movieId\"].apply(lambda filme: \"Toy Story\" if filme == 1 else \"Jumanji\")\n",
    "\n",
    "# gráfico com o agrupamento pelas valores das notas dadas para cada filme\n",
    "sns.countplot(\n",
    "    notas_dos_filmes,\n",
    "    x=\"rating\",\n",
    "    hue=\"Title\",\n",
    "    palette=\"grey\"\n",
    ")\n",
    "plt.show()"
   ]
  },
  {
   "cell_type": "markdown",
   "metadata": {},
   "source": [
    "### 6.2 Analisando a distribuição das notas dos filmes\n"
   ]
  },
  {
   "cell_type": "code",
   "execution_count": 58,
   "metadata": {},
   "outputs": [
    {
     "data": {
      "image/png": "[encoded data removed]",
      "text/plain": [
       "<Figure size 1000x500 with 1 Axes>"
      ]
     },
     "metadata": {},
     "output_type": "display_data"
    }
   ],
   "source": [
    "notas_toy_story\n",
    "notas_jumanji\n",
    "\n",
    "plt.figure(\n",
    "    figsize=(10, 5),\n",
    "    facecolor=\"lightblue\",\n",
    "    edgecolor=\"black\",\n",
    "    num=\"first\"\n",
    ")\n",
    "sns.set_theme(style=\"darkgrid\")\n",
    "sns.boxplot(\n",
    "    notas_dos_filmes,\n",
    "    y=\"rating\",\n",
    "    hue=\"Title\",\n",
    "    palette=\"coolwarm\"\n",
    ")\n",
    "\n",
    "plt.title(\"Notas dos filmes\")\n",
    "plt.show()"
   ]
  }
 ],
 "metadata": {
  "kernelspec": {
   "display_name": ".venv",
   "language": "python",
   "name": "python3"
  },
  "language_info": {
   "codemirror_mode": {
    "name": "ipython",
    "version": 3
   },
   "file_extension": ".py",
   "mimetype": "text/x-python",
   "name": "python",
   "nbconvert_exporter": "python",
   "pygments_lexer": "ipython3",
   "version": "3.12.2"
  }
 },
 "nbformat": 4,
 "nbformat_minor": 2
}
