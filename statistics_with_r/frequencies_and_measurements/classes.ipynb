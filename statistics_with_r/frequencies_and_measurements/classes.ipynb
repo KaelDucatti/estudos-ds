{
 "cells": [
  {
   "cell_type": "code",
   "execution_count": null,
   "metadata": {
    "vscode": {
     "languageId": "r"
    }
   },
   "outputs": [],
   "source": [
    "# Teste básico de ambiente Jupyter com R\n",
    "\n",
    "# Mostrar a versão do R\n",
    "version\n",
    "\n",
    "# Carregar e usar um pacote comum\n",
    "install.packages(\"ggplot2\")  # Instala o pacote ggplot2 \n",
    "library(ggplot2)             # Carrega o pacote ggplot2\n",
    "\n",
    "# Criar um gráfico simples\n",
    "data(mtcars)\n",
    "ggplot(mtcars, aes(x = wt, y = mpg)) +\n",
    "  geom_point() +\n",
    "  ggtitle(\"Gráfico de Dispersão de Peso vs. Milhas por Galão\")\n"
   ]
  }
 ],
 "metadata": {
  "kernelspec": {
   "display_name": "R",
   "language": "R",
   "name": "ir"
  },
  "language_info": {
   "name": "R"
  }
 },
 "nbformat": 4,
 "nbformat_minor": 2
}
